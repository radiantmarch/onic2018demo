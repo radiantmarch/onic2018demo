{
 "cells": [
  {
   "cell_type": "markdown",
   "metadata": {},
   "source": [
    "# \bONIC 2018 発表デモ用 Jupyter Notebook"
   ]
  },
  {
   "cell_type": "code",
   "execution_count": 1,
   "metadata": {},
   "outputs": [],
   "source": [
    "from ats.topology import loader\n",
    "tb = loader.load(\"default_testbed.yaml\")\n",
    "from genie.libs.parser.iosxe.show_interface import ShowInterfaces"
   ]
  },
  {
   "cell_type": "markdown",
   "metadata": {},
   "source": [
    "## IOS デバイスへの接続テスト"
   ]
  },
  {
   "cell_type": "code",
   "execution_count": 2,
   "metadata": {},
   "outputs": [],
   "source": [
    "ios1 = tb.devices.ios1\n",
    "ios2 = tb.devices.ios2"
   ]
  },
  {
   "cell_type": "code",
   "execution_count": 3,
   "metadata": {
    "scrolled": true
   },
   "outputs": [
    {
     "data": {
      "text/plain": [
       "'iosxe'"
      ]
     },
     "execution_count": 3,
     "metadata": {},
     "output_type": "execute_result"
    }
   ],
   "source": [
    "ios1.os"
   ]
  },
  {
   "cell_type": "code",
   "execution_count": 4,
   "metadata": {
    "scrolled": true
   },
   "outputs": [
    {
     "name": "stdout",
     "output_type": "stream",
     "text": [
      "\n",
      "2018-10-28T14:45:19: %UNICON-INFO: +++ initializing context +++\n",
      "\n",
      "2018-10-28T14:45:19: %UNICON-INFO: +++ initializing state_machine +++\n",
      "\n",
      "2018-10-28T14:45:19: %UNICON-INFO: +++ initializing services +++\n",
      "\n",
      "2018-10-28T14:45:19: %UNICON-INFO: adding service  send   :  <unicon.plugins.generic.service_implementation.Send object at 0x1087f1eb8>\n",
      "\n",
      "2018-10-28T14:45:19: %UNICON-INFO: adding service  sendline   :  <unicon.plugins.generic.service_implementation.Sendline object at 0x1087f1f28>\n",
      "\n",
      "2018-10-28T14:45:19: %UNICON-INFO: adding service  expect   :  <unicon.plugins.generic.service_implementation.Expect object at 0x1087f1f60>\n",
      "\n",
      "2018-10-28T14:45:19: %UNICON-INFO: adding service  execute   :  <unicon.plugins.iosxe.service_implementation.Execute object at 0x1087f1dd8>\n",
      "\n",
      "2018-10-28T14:45:19: %UNICON-INFO: adding service  config   :  <unicon.plugins.iosxe.service_implementation.Config object at 0x1087f1ef0>\n",
      "\n",
      "2018-10-28T14:45:19: %UNICON-INFO: adding service  configure   :  <unicon.plugins.iosxe.service_implementation.Configure object at 0x1087f1f98>\n",
      "\n",
      "2018-10-28T14:45:19: %UNICON-INFO: adding service  enable   :  <unicon.plugins.generic.service_implementation.Enable object at 0x1087f1ac8>\n",
      "\n",
      "2018-10-28T14:45:19: %UNICON-INFO: adding service  disable   :  <unicon.plugins.generic.service_implementation.Disable object at 0x1087f1fd0>\n",
      "\n",
      "2018-10-28T14:45:19: %UNICON-INFO: adding service  reload   :  <unicon.plugins.generic.service_implementation.Reload object at 0x108808048>\n",
      "\n",
      "2018-10-28T14:45:19: %UNICON-INFO: adding service  ping   :  <unicon.plugins.iosxe.service_implementation.Ping object at 0x108808080>\n",
      "\n",
      "2018-10-28T14:45:19: %UNICON-INFO: adding service  copy   :  <unicon.plugins.generic.service_implementation.Copy object at 0x108808198>\n",
      "\n",
      "2018-10-28T14:45:19: %UNICON-INFO: adding service  expect_log   :  <unicon.plugins.generic.service_implementation.ExpectLogging object at 0x108808128>\n",
      "\n",
      "2018-10-28T14:45:19: %UNICON-INFO: adding service  log_user   :  <unicon.plugins.generic.service_implementation.LogUser object at 0x108808240>\n",
      "\n",
      "2018-10-28T14:45:19: %UNICON-INFO: adding service  bash_console   :  <unicon.plugins.iosxe.service_implementation.BashService object at 0x1088081d0>\n",
      "\n",
      "2018-10-28T14:45:19: %UNICON-INFO: +++ connection to spawn_command: telnet 10.71.158.113 17000, id: 4437664768 +++\n",
      "\n",
      "2018-10-28T14:45:19: %UNICON-INFO: connection to ios1\n",
      "\n",
      "2018-10-28T14:45:19: %UNICON-INFO: telnet 10.71.158.113 17000\n",
      "Trying 10.71.158.113...\n",
      "Connected to 10.71.158.113.\n",
      "Escape character is '^]'.\n",
      "\n",
      "ios1#\n",
      "2018-10-28T14:45:20: %UNICON-INFO: +++ initializing handle +++\n",
      "\n",
      "2018-10-28T14:45:20: %UNICON-INFO: +++ execute command 'term length 0' +++\n",
      "term length 0\n",
      "ios1#\n",
      "2018-10-28T14:45:20: %UNICON-INFO: +++ execute command 'term width 0' +++\n",
      "term width 0\n",
      "ios1#\n",
      "2018-10-28T14:45:20: %UNICON-INFO: +++ execute command 'show version' +++\n",
      "show version\n",
      "Cisco IOS XE Software, Version 16.06.01\n",
      "Cisco IOS Software [Everest], Virtual XE Software (X86_64_LINUX_IOSD-UNIVERSALK9-M), Version 16.6.1, RELEASE SOFTWARE (fc2)\n",
      "Technical Support: http://www.cisco.com/techsupport\n",
      "Copyright (c) 1986-2017 by Cisco Systems, Inc.\n",
      "Compiled Sat 22-Jul-17 05:51 by mcpre\n",
      "\n",
      "\n",
      "Cisco IOS-XE software, Copyright (c) 2005-2017 by cisco Systems, Inc.\n",
      "All rights reserved.  Certain components of Cisco IOS-XE software are\n",
      "licensed under the GNU General Public License (\"GPL\") Version 2.0.  The\n",
      "software code licensed under GPL Version 2.0 is free software that comes\n",
      "with ABSOLUTELY NO WARRANTY.  You can redistribute and/or modify such\n",
      "GPL code under the terms of GPL Version 2.0.  For more details, see the\n",
      "documentation or \"License Notice\" file accompanying the IOS-XE software,\n",
      "or the applicable URL provided on the flyer accompanying the IOS-XE\n",
      "software.\n",
      "\n",
      "\n",
      "ROM: IOS-XE ROMMON\n",
      "\n",
      "ios1 uptime is 1 hour, 4 minutes\n",
      "Uptime for this control processor is 1 hour, 6 minutes\n",
      "System returned to ROM by reload\n",
      "System image file is \"bootflash:packages.conf\"\n",
      "Last reload reason: Unknown reason\n",
      "\n",
      "\n",
      "\n",
      "This product contains cryptographic features and is subject to United\n",
      "States and local country laws governing import, export, transfer and\n",
      "use. Delivery of Cisco cryptographic products does not imply\n",
      "third-party authority to import, export, distribute or use encryption.\n",
      "Importers, exporters, distributors and users are responsible for\n",
      "compliance with U.S. and local country laws. By using this product you\n",
      "agree to comply with applicable laws and regulations. If you are unable\n",
      "to comply with U.S. and local laws, return this product immediately.\n",
      "\n",
      "A summary of U.S. laws governing Cisco cryptographic products may be found at:\n",
      "http://www.cisco.com/wwl/export/crypto/tool/stqrg.html\n",
      "\n",
      "If you require further assistance please contact us by sending email to\n",
      "export@cisco.com.\n",
      "\n",
      "License Level: ax\n",
      "License Type: Default. No valid license found.\n",
      "Next reload license Level: ax\n",
      "\n",
      "cisco CSR1000V (VXE) processor (revision VXE) with 1225511K/3075K bytes of memory.\n",
      "Processor board ID 9QFHALCFI78\n",
      "4 Gigabit Ethernet interfaces\n",
      "32768K bytes of non-volatile configuration memory.\n",
      "3018776K bytes of physical memory.\n",
      "16162815K bytes of virtual hard disk at bootflash:.\n",
      "0K bytes of WebUI ODM Files at webui:.\n",
      "\n",
      "Configuration register is 0x2102\n",
      "\n",
      "ios1#\n",
      "2018-10-28T14:45:20: %UNICON-INFO: +++ config  +++\n",
      "config term\n",
      "Enter configuration commands, one per line.  End with CNTL/Z.\n",
      "ios1(config)#no logging console\n",
      "ios1(config)#line console 0\n",
      "ios1(config-line)#exec-timeout 0\n",
      "ios1(config-line)#end\n",
      "ios1#"
     ]
    },
    {
     "data": {
      "text/plain": [
       "\"Escape character is '^]'.\\r\\n\\r\\nios1#\""
      ]
     },
     "execution_count": 4,
     "metadata": {},
     "output_type": "execute_result"
    }
   ],
   "source": [
    "ios1.connect()"
   ]
  },
  {
   "cell_type": "code",
   "execution_count": 5,
   "metadata": {},
   "outputs": [
    {
     "data": {
      "text/plain": [
       "True"
      ]
     },
     "execution_count": 5,
     "metadata": {},
     "output_type": "execute_result"
    }
   ],
   "source": [
    "ios1.connected"
   ]
  },
  {
   "cell_type": "code",
   "execution_count": 6,
   "metadata": {
    "scrolled": true
   },
   "outputs": [
    {
     "name": "stdout",
     "output_type": "stream",
     "text": [
      "\n",
      "2018-10-28T14:45:24: %UNICON-INFO: +++ execute command 'show ver | i RELEASE' +++\n",
      "show ver | i RELEASE\n",
      "Cisco IOS Software [Everest], Virtual XE Software (X86_64_LINUX_IOSD-UNIVERSALK9-M), Version 16.6.1, RELEASE SOFTWARE (fc2)\n",
      "ios1#"
     ]
    },
    {
     "data": {
      "text/plain": [
       "'Cisco IOS Software [Everest], Virtual XE Software (X86_64_LINUX_IOSD-UNIVERSALK9-M), Version 16.6.1, RELEASE SOFTWARE (fc2)'"
      ]
     },
     "execution_count": 6,
     "metadata": {},
     "output_type": "execute_result"
    }
   ],
   "source": [
    "ios1.execute('show ver | i RELEASE')"
   ]
  },
  {
   "cell_type": "markdown",
   "metadata": {},
   "source": [
    "### Parser のテスト"
   ]
  },
  {
   "cell_type": "code",
   "execution_count": 8,
   "metadata": {
    "scrolled": true
   },
   "outputs": [
    {
     "name": "stdout",
     "output_type": "stream",
     "text": [
      "\r\n",
      "2018-10-28T14:45:38: %UNICON-INFO: +++ execute command 'show interfaces' +++\n"
     ]
    },
    {
     "ename": "InvalidCommandError",
     "evalue": "Invalid command has been executed",
     "output_type": "error",
     "traceback": [
      "\u001b[0;31m---------------------------------------------------------------------------\u001b[0m",
      "\u001b[0;31mOSError\u001b[0m                                   Traceback (most recent call last)",
      "\u001b[0;32m~/.pyenv/versions/anaconda3-5.0.0/lib/python3.6/site-packages/unicon/plugins/generic/service_implementation.py\u001b[0m in \u001b[0;36mcall_service\u001b[0;34m(self, command, target, *args, **kwargs)\u001b[0m\n\u001b[1;32m    118\u001b[0m         \u001b[0;32mtry\u001b[0m\u001b[0;34m:\u001b[0m\u001b[0;34m\u001b[0m\u001b[0m\n\u001b[0;32m--> 119\u001b[0;31m             \u001b[0mspawn\u001b[0m\u001b[0;34m.\u001b[0m\u001b[0msendline\u001b[0m\u001b[0;34m(\u001b[0m\u001b[0mcommand\u001b[0m\u001b[0;34m,\u001b[0m \u001b[0;34m*\u001b[0m\u001b[0margs\u001b[0m\u001b[0;34m,\u001b[0m \u001b[0;34m**\u001b[0m\u001b[0mkwargs\u001b[0m\u001b[0;34m)\u001b[0m\u001b[0;34m\u001b[0m\u001b[0m\n\u001b[0m\u001b[1;32m    120\u001b[0m         \u001b[0;32mexcept\u001b[0m \u001b[0mException\u001b[0m \u001b[0;32mas\u001b[0m \u001b[0merr\u001b[0m\u001b[0;34m:\u001b[0m\u001b[0;34m\u001b[0m\u001b[0m\n",
      "\u001b[0;32m~/.pyenv/versions/anaconda3-5.0.0/lib/python3.6/site-packages/unicon/eal/backend/pty_backend.cpython-36m-darwin.so\u001b[0m in \u001b[0;36municon.eal.backend.pty_backend.RawSpawn.sendline\u001b[0;34m()\u001b[0m\n",
      "\u001b[0;32m~/.pyenv/versions/anaconda3-5.0.0/lib/python3.6/site-packages/unicon/eal/backend/pty_backend.cpython-36m-darwin.so\u001b[0m in \u001b[0;36municon.eal.backend.pty_backend.RawSpawn.send\u001b[0;34m()\u001b[0m\n",
      "\u001b[0;32m~/.pyenv/versions/anaconda3-5.0.0/lib/python3.6/site-packages/unicon/eal/backend/pty_backend.cpython-36m-darwin.so\u001b[0m in \u001b[0;36municon.eal.backend.pty_backend.RawPtySpawn.is_writable\u001b[0;34m()\u001b[0m\n",
      "\u001b[0;31mOSError\u001b[0m: [Errno 9] Bad file descriptor",
      "\nDuring handling of the above exception, another exception occurred:\n",
      "\u001b[0;31mSubCommandFailure\u001b[0m                         Traceback (most recent call last)",
      "\u001b[0;32m~/.pyenv/versions/anaconda3-5.0.0/lib/python3.6/site-packages/genie/metaparser/_metaparser.cpython-36m-darwin.so\u001b[0m in \u001b[0;36mgenie.metaparser._metaparser.MetaParser.parse\u001b[0;34m()\u001b[0m\n",
      "\u001b[0;32m~/.pyenv/versions/anaconda3-5.0.0/lib/python3.6/site-packages/genie/libs/parser/iosxe/show_interface.py\u001b[0m in \u001b[0;36mcli\u001b[0;34m(self)\u001b[0m\n\u001b[1;32m    174\u001b[0m     \u001b[0;32mdef\u001b[0m \u001b[0mcli\u001b[0m\u001b[0;34m(\u001b[0m\u001b[0mself\u001b[0m\u001b[0;34m)\u001b[0m\u001b[0;34m:\u001b[0m\u001b[0;34m\u001b[0m\u001b[0m\n\u001b[0;32m--> 175\u001b[0;31m         \u001b[0mout\u001b[0m \u001b[0;34m=\u001b[0m \u001b[0mself\u001b[0m\u001b[0;34m.\u001b[0m\u001b[0mdevice\u001b[0m\u001b[0;34m.\u001b[0m\u001b[0mexecute\u001b[0m\u001b[0;34m(\u001b[0m\u001b[0;34m'show interfaces'\u001b[0m\u001b[0;34m)\u001b[0m\u001b[0;34m\u001b[0m\u001b[0m\n\u001b[0m\u001b[1;32m    176\u001b[0m         \u001b[0minterface_dict\u001b[0m \u001b[0;34m=\u001b[0m \u001b[0;34m{\u001b[0m\u001b[0;34m}\u001b[0m\u001b[0;34m\u001b[0m\u001b[0m\n",
      "\u001b[0;32m~/.pyenv/versions/anaconda3-5.0.0/lib/python3.6/site-packages/unicon/bases/routers/services.cpython-36m-darwin.so\u001b[0m in \u001b[0;36municon.bases.routers.services.BaseService.__call__\u001b[0;34m()\u001b[0m\n",
      "\u001b[0;32m~/.pyenv/versions/anaconda3-5.0.0/lib/python3.6/site-packages/unicon/plugins/iosxe/service_implementation.py\u001b[0m in \u001b[0;36mcall_service\u001b[0;34m(self, command, reply, timeout, *args, **kwargs)\u001b[0m\n\u001b[1;32m     51\u001b[0m                                                    want_continue]),\n\u001b[0;32m---> 52\u001b[0;31m                              timeout=timeout, *args, **kwargs)\n\u001b[0m\u001b[1;32m     53\u001b[0m \u001b[0;34m\u001b[0m\u001b[0m\n",
      "\u001b[0;32m~/.pyenv/versions/anaconda3-5.0.0/lib/python3.6/site-packages/unicon/plugins/generic/service_implementation.py\u001b[0m in \u001b[0;36mcall_service\u001b[0;34m(self, command, reply, timeout, error_pattern, search_size, *args, **kwargs)\u001b[0m\n\u001b[1;32m    456\u001b[0m             \u001b[0mcon\u001b[0m\u001b[0;34m.\u001b[0m\u001b[0mlog\u001b[0m\u001b[0;34m.\u001b[0m\u001b[0minfo\u001b[0m\u001b[0;34m(\u001b[0m\u001b[0;34m\"+++ execute command '%s' +++\"\u001b[0m \u001b[0;34m%\u001b[0m \u001b[0mcommand\u001b[0m\u001b[0;34m)\u001b[0m\u001b[0;34m\u001b[0m\u001b[0m\n\u001b[0;32m--> 457\u001b[0;31m             \u001b[0mcon\u001b[0m\u001b[0;34m.\u001b[0m\u001b[0msendline\u001b[0m\u001b[0;34m(\u001b[0m\u001b[0mcommand\u001b[0m\u001b[0;34m)\u001b[0m\u001b[0;34m\u001b[0m\u001b[0m\n\u001b[0m\u001b[1;32m    458\u001b[0m             \u001b[0;32mtry\u001b[0m\u001b[0;34m:\u001b[0m\u001b[0;34m\u001b[0m\u001b[0m\n",
      "\u001b[0;32m~/.pyenv/versions/anaconda3-5.0.0/lib/python3.6/site-packages/unicon/bases/routers/services.cpython-36m-darwin.so\u001b[0m in \u001b[0;36municon.bases.routers.services.BaseService.__call__\u001b[0;34m()\u001b[0m\n",
      "\u001b[0;32m~/.pyenv/versions/anaconda3-5.0.0/lib/python3.6/site-packages/unicon/plugins/generic/service_implementation.py\u001b[0m in \u001b[0;36mcall_service\u001b[0;34m(self, command, target, *args, **kwargs)\u001b[0m\n\u001b[1;32m    121\u001b[0m             raise SubCommandFailure(\"Failed to send the command to spawn\",\n\u001b[0;32m--> 122\u001b[0;31m                                     err)\n\u001b[0m\u001b[1;32m    123\u001b[0m         \u001b[0mself\u001b[0m\u001b[0;34m.\u001b[0m\u001b[0mresult\u001b[0m \u001b[0;34m=\u001b[0m \u001b[0;32mTrue\u001b[0m\u001b[0;34m\u001b[0m\u001b[0m\n",
      "\u001b[0;31mSubCommandFailure\u001b[0m: ('Failed to send the command to spawn', OSError(9, 'Bad file descriptor'))",
      "\nThe above exception was the direct cause of the following exception:\n",
      "\u001b[0;31mInvalidCommandError\u001b[0m                       Traceback (most recent call last)",
      "\u001b[0;32m<ipython-input-8-385a340b8e5d>\u001b[0m in \u001b[0;36m<module>\u001b[0;34m()\u001b[0m\n\u001b[0;32m----> 1\u001b[0;31m \u001b[0mparsed\u001b[0m \u001b[0;34m=\u001b[0m \u001b[0mShowInterfaces\u001b[0m\u001b[0;34m(\u001b[0m\u001b[0mios1\u001b[0m\u001b[0;34m)\u001b[0m\u001b[0;34m.\u001b[0m\u001b[0mparse\u001b[0m\u001b[0;34m(\u001b[0m\u001b[0;34m)\u001b[0m\u001b[0;34m\u001b[0m\u001b[0m\n\u001b[0m",
      "\u001b[0;32m~/.pyenv/versions/anaconda3-5.0.0/lib/python3.6/site-packages/genie/metaparser/_metaparser.cpython-36m-darwin.so\u001b[0m in \u001b[0;36mgenie.metaparser._metaparser.MetaParser.parse\u001b[0;34m()\u001b[0m\n",
      "\u001b[0;31mInvalidCommandError\u001b[0m: Invalid command has been executed"
     ]
    }
   ],
   "source": [
    "parsed = ShowInterfaces(ios1).parse()"
   ]
  },
  {
   "cell_type": "code",
   "execution_count": null,
   "metadata": {
    "scrolled": true
   },
   "outputs": [],
   "source": [
    "parsed"
   ]
  },
  {
   "cell_type": "code",
   "execution_count": null,
   "metadata": {},
   "outputs": [],
   "source": [
    "ios2.connect()"
   ]
  },
  {
   "cell_type": "code",
   "execution_count": 7,
   "metadata": {},
   "outputs": [],
   "source": [
    "ios1.disconnect()"
   ]
  },
  {
   "cell_type": "code",
   "execution_count": null,
   "metadata": {},
   "outputs": [],
   "source": [
    "ios2.disconnect()"
   ]
  },
  {
   "cell_type": "markdown",
   "metadata": {},
   "source": [
    "## NXOS への接続テスト"
   ]
  },
  {
   "cell_type": "code",
   "execution_count": null,
   "metadata": {},
   "outputs": [],
   "source": [
    "nxos3 = tb.devices.nxos3"
   ]
  },
  {
   "cell_type": "code",
   "execution_count": null,
   "metadata": {},
   "outputs": [],
   "source": [
    "nxos3.connect()"
   ]
  },
  {
   "cell_type": "code",
   "execution_count": null,
   "metadata": {},
   "outputs": [],
   "source": [
    "nxos3.execute('show ip int br')"
   ]
  },
  {
   "cell_type": "code",
   "execution_count": null,
   "metadata": {},
   "outputs": [],
   "source": [
    "nxos3.disconnect()"
   ]
  },
  {
   "cell_type": "markdown",
   "metadata": {},
   "source": [
    "## NSO への接続（デモ3）"
   ]
  },
  {
   "cell_type": "markdown",
   "metadata": {},
   "source": [
    "### テストベッド接続"
   ]
  },
  {
   "cell_type": "code",
   "execution_count": null,
   "metadata": {},
   "outputs": [],
   "source": [
    "nso = tb.devices.nso"
   ]
  },
  {
   "cell_type": "code",
   "execution_count": null,
   "metadata": {
    "scrolled": true
   },
   "outputs": [],
   "source": [
    "nso.connect()"
   ]
  },
  {
   "cell_type": "markdown",
   "metadata": {},
   "source": [
    "### ログ出力を綺麗にするためのおまじない"
   ]
  },
  {
   "cell_type": "code",
   "execution_count": null,
   "metadata": {},
   "outputs": [],
   "source": [
    "init_command = '''\\\n",
    "complete-on-space false\n",
    "autowizard false\n",
    "ignore-leading-space true\n",
    "'''\n",
    "res = nso.execute(init_command)"
   ]
  },
  {
   "cell_type": "markdown",
   "metadata": {},
   "source": [
    "### コマンドの実行"
   ]
  },
  {
   "cell_type": "code",
   "execution_count": null,
   "metadata": {},
   "outputs": [],
   "source": [
    "cmd = 'show devices list'"
   ]
  },
  {
   "cell_type": "code",
   "execution_count": null,
   "metadata": {
    "scrolled": false
   },
   "outputs": [],
   "source": [
    "res = nso.execute(cmd)"
   ]
  },
  {
   "cell_type": "code",
   "execution_count": null,
   "metadata": {},
   "outputs": [],
   "source": [
    "print(res)"
   ]
  },
  {
   "cell_type": "markdown",
   "metadata": {},
   "source": [
    "### NSO 経由での複数デバイス設定の一斉変更"
   ]
  },
  {
   "cell_type": "code",
   "execution_count": null,
   "metadata": {},
   "outputs": [],
   "source": [
    "cmd = '''\n",
    "devices device ios1\n",
    "    config\n",
    "        ios:interface Loopback 2\n",
    "            description nso_test\n",
    "\n",
    "devices device ios2\n",
    "    config\n",
    "        ios:interface Loopback 2\n",
    "            description nso_test\n",
    "'''"
   ]
  },
  {
   "cell_type": "code",
   "execution_count": null,
   "metadata": {
    "scrolled": true
   },
   "outputs": [],
   "source": [
    "res = nso.configure(cmd)"
   ]
  },
  {
   "cell_type": "code",
   "execution_count": null,
   "metadata": {},
   "outputs": [],
   "source": [
    "print(res)"
   ]
  },
  {
   "cell_type": "markdown",
   "metadata": {},
   "source": [
    "### ロールバック\n"
   ]
  },
  {
   "cell_type": "code",
   "execution_count": null,
   "metadata": {},
   "outputs": [],
   "source": [
    "cmd = '''\n",
    "rollback configuration\n",
    "'''"
   ]
  },
  {
   "cell_type": "code",
   "execution_count": null,
   "metadata": {},
   "outputs": [],
   "source": [
    "res = nso.configure(cmd)"
   ]
  },
  {
   "cell_type": "code",
   "execution_count": null,
   "metadata": {},
   "outputs": [],
   "source": []
  },
  {
   "cell_type": "code",
   "execution_count": null,
   "metadata": {},
   "outputs": [],
   "source": []
  },
  {
   "cell_type": "code",
   "execution_count": null,
   "metadata": {},
   "outputs": [],
   "source": []
  },
  {
   "cell_type": "markdown",
   "metadata": {},
   "source": [
    "## クリーンアップ\n"
   ]
  },
  {
   "cell_type": "code",
   "execution_count": null,
   "metadata": {},
   "outputs": [],
   "source": [
    "ios1.connected\n",
    "# ios2.connedted\n",
    "# nxos3.connected\n",
    "nso.connected"
   ]
  },
  {
   "cell_type": "code",
   "execution_count": null,
   "metadata": {},
   "outputs": [],
   "source": [
    "ios1.disconnect()"
   ]
  },
  {
   "cell_type": "code",
   "execution_count": null,
   "metadata": {},
   "outputs": [],
   "source": [
    "ios2.disconnect()"
   ]
  },
  {
   "cell_type": "code",
   "execution_count": null,
   "metadata": {},
   "outputs": [],
   "source": [
    "nxos3.disconnect()"
   ]
  },
  {
   "cell_type": "code",
   "execution_count": null,
   "metadata": {},
   "outputs": [],
   "source": [
    "nso.disconnect()"
   ]
  },
  {
   "cell_type": "code",
   "execution_count": null,
   "metadata": {},
   "outputs": [],
   "source": []
  },
  {
   "cell_type": "code",
   "execution_count": null,
   "metadata": {},
   "outputs": [],
   "source": []
  },
  {
   "cell_type": "code",
   "execution_count": null,
   "metadata": {},
   "outputs": [],
   "source": []
  },
  {
   "cell_type": "code",
   "execution_count": null,
   "metadata": {},
   "outputs": [],
   "source": []
  }
 ],
 "metadata": {
  "hide_input": false,
  "kernelspec": {
   "display_name": "Python 3",
   "language": "python",
   "name": "python3"
  },
  "language_info": {
   "codemirror_mode": {
    "name": "ipython",
    "version": 3
   },
   "file_extension": ".py",
   "mimetype": "text/x-python",
   "name": "python",
   "nbconvert_exporter": "python",
   "pygments_lexer": "ipython3",
   "version": "3.6.2"
  },
  "toc": {
   "nav_menu": {},
   "number_sections": true,
   "sideBar": true,
   "skip_h1_title": false,
   "title_cell": "Table of Contents",
   "title_sidebar": "Contents",
   "toc_cell": false,
   "toc_position": {
    "height": "573.333px",
    "left": "71px",
    "top": "109.722px",
    "width": "227.552px"
   },
   "toc_section_display": true,
   "toc_window_display": true
  },
  "varInspector": {
   "cols": {
    "lenName": 16,
    "lenType": 16,
    "lenVar": 40
   },
   "kernels_config": {
    "python": {
     "delete_cmd_postfix": "",
     "delete_cmd_prefix": "del ",
     "library": "var_list.py",
     "varRefreshCmd": "print(var_dic_list())"
    },
    "r": {
     "delete_cmd_postfix": ") ",
     "delete_cmd_prefix": "rm(",
     "library": "var_list.r",
     "varRefreshCmd": "cat(var_dic_list()) "
    }
   },
   "types_to_exclude": [
    "module",
    "function",
    "builtin_function_or_method",
    "instance",
    "_Feature"
   ],
   "window_display": false
  }
 },
 "nbformat": 4,
 "nbformat_minor": 2
}
